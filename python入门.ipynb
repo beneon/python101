{
 "cells": [
  {
   "cell_type": "markdown",
   "metadata": {},
   "source": [
    "# python 入门-introduction\n",
    "\n",
    "## 什么是python\n",
    "\n",
    "python是一种动态的高级语言，有一些特性可能初学的时候没有感觉，但是如果和其他的语言（比如C）相比会有明显的区别：\n",
    "\n",
    "- 不用声明类型，不管是变量，对象还是函数\n",
    "- 语言弹性好，接近自然语言\n",
    "- 没有{}，严格缩进\n",
    "\n",
    "python可以从官方网站下载：\n",
    "[python3 windows](https://www.python.org/downloads/release/python-364/)\n",
    "[python2.7 windows](https://www.python.org/downloads/release/python-2714/)\n",
    "\n",
    "python下载安装以后是自带编辑器/解释器的，也就是说你不用另外准备编程环境直接就可以开始工作了。打开一个叫做idle的程序，或者也可以在你的命令行模式下面输入python，接着就可以开始输入命令了：\n",
    "\n",
    "但是，如果你愿意再多花一些时间来设置编程环境，我很推荐你一步到位使用anaconda。anaconda是数据科学中非常常用的一个python环境大礼包，里面包括了jupyter，numpy，pandas等等很有用的工具，当然也包括了python。其他的不说，至少jupyter对于学习python是很有帮助的。\n",
    "\n",
    "anaconda的下载地址在这里：\n",
    "\n",
    "[anaconda清华大学镜像说明](https://mirrors.tuna.tsinghua.edu.cn/help/anaconda/)\n",
    "\n",
    "[anaconda清华大学镜像](https://mirrors.tuna.tsinghua.edu.cn/anaconda/archive/)\n",
    "\n",
    "[anaconda3 17年10月更新，windows 64位](https://mirrors.tuna.tsinghua.edu.cn/anaconda/archive/Anaconda3-5.0.1-Windows-x86_64.exe)\n",
    "\n",
    "[anaconda3 17年10月更新，windows 32位](https://mirrors.tuna.tsinghua.edu.cn/anaconda/archive/Anaconda3-5.0.1-Windows-x86.exe)\n",
    "\n",
    "这些都是国内的源，下载速度应该是ok的。实际上下载完以后基本都够你用的了，但是如果你想进一步做一些生信的分析，可能还要装别的包，这时候你就需要配置一下国内的channel保证下载速度：\n",
    "\n",
    "在命令行输入下列命令：\n",
    "\n",
    "```bash\n",
    "conda config --add channels https://mirrors.tuna.tsinghua.edu.cn/anaconda/pkgs/main/\n",
    "conda config --add channels https://mirrors.tuna.tsinghua.edu.cn/anaconda/pkgs/free/\n",
    "conda config --add channels https://mirrors.tuna.tsinghua.edu.cn/anaconda/cloud/bioconda/\n",
    "conda config --set show_channel_urls yes\n",
    "\n",
    "```\n",
    "\n",
    "jupyter是很好用的一个工具，可以在命令行里面用`jupyter notebook`调用。\n",
    "\n",
    "\n",
    "### 符号说明：\n",
    "\n",
    "$ 命令行提示符，表示后面的内容要由你输入到命令行里面，$本身不用输入\n",
    "\n",
    "\\# 表示后面的内容是注释，也就是不被运行的程序"
   ]
  },
  {
   "cell_type": "markdown",
   "metadata": {},
   "source": [
    "$ python\n",
    "\n",
    "```\n",
    "Python 3.5.2 |Anaconda custom (x86_64)| (default, Jul  2 2016, 17:52:12)\n",
    "[GCC 4.2.1 Compatible Apple LLVM 4.2 (clang-425.0.28)] on darwin\n",
    "Type \"help\", \"copyright\", \"credits\" or \"license\" for more information.\n",
    "```\n",
    "\n",
    "根据你安装的python平台有所不同，上面的返回结果会有所不同，这个不要紧"
   ]
  },
  {
   "cell_type": "code",
   "execution_count": 13,
   "metadata": {
    "collapsed": false
   },
   "outputs": [
    {
     "data": {
      "text/plain": [
       "6"
      ]
     },
     "execution_count": 13,
     "metadata": {},
     "output_type": "execute_result"
    }
   ],
   "source": [
    "a = 6\n",
    "a"
   ]
  },
  {
   "cell_type": "markdown",
   "metadata": {},
   "source": [
    "上面的程序先用a=6做了一个**赋值**。=的意义是把右边的值交给左边的符号保存。在将6交给a保存以后，a返回的值当然就是6了"
   ]
  },
  {
   "cell_type": "code",
   "execution_count": 14,
   "metadata": {
    "collapsed": false
   },
   "outputs": [
    {
     "data": {
      "text/plain": [
       "8"
      ]
     },
     "execution_count": 14,
     "metadata": {},
     "output_type": "execute_result"
    }
   ],
   "source": [
    "a+2"
   ]
  },
  {
   "cell_type": "markdown",
   "metadata": {},
   "source": [
    "上面的表达式`a+2`表示取a的值，和2相加，返回的结果就是8。\n",
    "> 现在a的值是多少？"
   ]
  },
  {
   "cell_type": "code",
   "execution_count": 15,
   "metadata": {
    "collapsed": false
   },
   "outputs": [
    {
     "data": {
      "text/plain": [
       "'hi'"
      ]
     },
     "execution_count": 15,
     "metadata": {},
     "output_type": "execute_result"
    }
   ],
   "source": [
    "a = 'hi'\n",
    "a"
   ]
  },
  {
   "cell_type": "markdown",
   "metadata": {},
   "source": [
    "注意上面的程序，刚刚a还是代表一个数值6，现在呢？根据a返回的结果，a表示的是'hi'这个**字符串**\n",
    ">关于字符串我们晚一些会仔细的讲"
   ]
  },
  {
   "cell_type": "code",
   "execution_count": 16,
   "metadata": {
    "collapsed": false
   },
   "outputs": [
    {
     "data": {
      "text/plain": [
       "2"
      ]
     },
     "execution_count": 16,
     "metadata": {},
     "output_type": "execute_result"
    }
   ],
   "source": [
    "len(a)"
   ]
  },
  {
   "cell_type": "markdown",
   "metadata": {},
   "source": [
    "len()是python自带的一个**函数**。晚一些我们还会提到另外一个东西叫做**方法**。方法和函数在很多情况下是差不多的意思，我也会互换着说。\n",
    "len()这个函数会返回*参数*的*长度*。参数是括号里面的东西，在len(a)里面，a作为参数交给了len()，len会**返回**a的长度。现在a是一个字符串，字符串的长度就是里面字符的个数，所以是2。\n",
    "> 为什么len()可以返回字符串的长度呢？在现在我们可以不用管这个细节的问题。高级程序语言最大的好处就是把很多细节的东西隐藏起来，而是提供给我们一些常用的接口，这样你在编程的时候只需要关注你想要实现的功能，而不需要对底层的技术细节伤脑筋。"
   ]
  },
  {
   "cell_type": "code",
   "execution_count": 18,
   "metadata": {
    "collapsed": false
   },
   "outputs": [
    {
     "ename": "TypeError",
     "evalue": "Can't convert 'int' object to str implicitly",
     "output_type": "error",
     "traceback": [
      "\u001b[0;31m---------------------------------------------------------------------------\u001b[0m",
      "\u001b[0;31mTypeError\u001b[0m                                 Traceback (most recent call last)",
      "\u001b[0;32m<ipython-input-18-994567101b6f>\u001b[0m in \u001b[0;36m<module>\u001b[0;34m()\u001b[0m\n\u001b[0;32m----> 1\u001b[0;31m \u001b[0ma\u001b[0m \u001b[0;34m+\u001b[0m \u001b[0mlen\u001b[0m\u001b[0;34m(\u001b[0m\u001b[0ma\u001b[0m\u001b[0;34m)\u001b[0m\u001b[0;34m\u001b[0m\u001b[0m\n\u001b[0m",
      "\u001b[0;31mTypeError\u001b[0m: Can't convert 'int' object to str implicitly"
     ]
    }
   ],
   "source": [
    "a + len(a)"
   ]
  },
  {
   "cell_type": "markdown",
   "metadata": {},
   "source": [
    "好的，现在我们遇到了一个出错信息。在你编程的时候会经常遇到这样的信息，开始你看到这样的错误信息的时候会很不知所措，不过见多了就见惯不怪了。\n",
    "我们来看一下上面的错误信息，现阶段需要你去关注的东西并不多，实际上你只要看到这一段就ok了：\n",
    "```\n",
    "----> 1 a + len(a)\n",
    "```\n",
    "这个说明出问题的程序是这一行（其中1是行号，后面的a+len(a)是这行的代码)。再往下还有这一行程序出错的详细说明，这些说明对于查错（Debug）有帮助，但不会总是明确指出错误到底出在哪里。\n",
    "\n",
    "所以上面的程序到底哪里有问题呢？len(a)是2，a是'hi'，两个东西一个是数值，另外一个是字符串，是没办法做加法的。所以如果我想获得一个hi2这样的结果要怎么办呢？"
   ]
  },
  {
   "cell_type": "code",
   "execution_count": 19,
   "metadata": {
    "collapsed": false
   },
   "outputs": [
    {
     "data": {
      "text/plain": [
       "'hi2'"
      ]
     },
     "execution_count": 19,
     "metadata": {},
     "output_type": "execute_result"
    }
   ],
   "source": [
    "a+str(len(a))"
   ]
  },
  {
   "cell_type": "markdown",
   "metadata": {},
   "source": [
    "str()又是一个内置的函数，他会把参数转化成字符串。也就是2==>'2'。现在就可以用+作运算了\n",
    ">字符串的+表示把两个字符串连在一起"
   ]
  },
  {
   "cell_type": "code",
   "execution_count": 20,
   "metadata": {
    "collapsed": false
   },
   "outputs": [
    {
     "ename": "NameError",
     "evalue": "name 'foo' is not defined",
     "output_type": "error",
     "traceback": [
      "\u001b[0;31m---------------------------------------------------------------------------\u001b[0m",
      "\u001b[0;31mNameError\u001b[0m                                 Traceback (most recent call last)",
      "\u001b[0;32m<ipython-input-20-d3b07384d113>\u001b[0m in \u001b[0;36m<module>\u001b[0;34m()\u001b[0m\n\u001b[0;32m----> 1\u001b[0;31m \u001b[0mfoo\u001b[0m\u001b[0;34m\u001b[0m\u001b[0m\n\u001b[0m",
      "\u001b[0;31mNameError\u001b[0m: name 'foo' is not defined"
     ]
    }
   ],
   "source": [
    "foo"
   ]
  },
  {
   "cell_type": "markdown",
   "metadata": {},
   "source": [
    "随着你上网查代码，你会遇到很多foo,bar这样的伪代码常用的名称。上面的代码里面我们引用了一个不存在的变量，所以程序会报错\n",
    "\n",
    "从上面的代码可以看到，python里面想对代码进行测试是很容易的。另外我推荐大家在容易找到的地方建立一个文件夹作为工作文件夹，使用英文命名，放在d盘根目录里面。把自己的代码放在这个文件夹里面。这样有几个好处：\n",
    "\n",
    "- 代码可以逐渐积累\n",
    "- 涉及文件操作的时候，可以把相关文件直接拷贝进工作文件夹里面，这样就不用写很长串的绝对路径了\n",
    "- 因为是英文文件夹名称，又放在d盘根目录下面，不会由于中文路径名称出现兼容性问题\n",
    "\n",
    "## 看一段python代码\n",
    "\n",
    "刚才我们都是一行一行的输入命令，获得反馈。实际编程的时候，我们很多时候是在一个文本文档里面把程序全部写好然后才开始运行的。就像文本文档的扩展名是txt，python源代码也有自己的扩展名：**py**\n",
    "\n",
    "看一下下面的代码："
   ]
  },
  {
   "cell_type": "code",
   "execution_count": 21,
   "metadata": {
    "collapsed": false
   },
   "outputs": [
    {
     "name": "stdout",
     "output_type": "stream",
     "text": [
      "Hello there -f\n"
     ]
    }
   ],
   "source": [
    "#!/usr/bin/env python\n",
    "\n",
    "# import modules used here -- sys is a very standard one\n",
    "import sys\n",
    "\n",
    "# Gather our code in a main() function\n",
    "def main():\n",
    "    print ('Hello there', sys.argv[1])\n",
    "    # Command line args are in sys.argv[1], sys.argv[2] ...\n",
    "    # sys.argv[0] is the script name itself and can be ignored\n",
    "\n",
    "# Standard boilerplate to call the main() function to begin\n",
    "# the program.\n",
    "if __name__ == '__main__':\n",
    "    main()"
   ]
  },
  {
   "cell_type": "markdown",
   "metadata": {},
   "source": [
    "因为我是在jupyter里面运行的上面的代码，所以sys.argv[1]返回的结果有点怪，这不重要。你可以自己试试把上面的代码存成一个hello.py放到工作文件夹里面，然后打开命令行，cd到你的工作文件夹，输入：\n",
    "\n",
    "```\n",
    "$ python hello.py Guido\n",
    "Hello there Guido\n",
    "$ ./hello.py Alice\n",
    "Hello there Alice\n",
    "```\n",
    "\n",
    "有时候第二种方式不见得能行（需要把executable属性打开），但是第一种方式`python hello.py Guido`是没有问题的。\n",
    "\n",
    "在上面这个命令里面，python是python这个解释器，hello.py是你刚才写的代码的文件名，而Guido则是交给这个程序的一个参数，而在程序里面，我们可以通过sys.argv获取参数**列表**。\n",
    "\n",
    "因为sys不是python默认加载的模块，所以在程序的最开头我们要import一下sys\n",
    "\n",
    "### 关于程序的结构\n",
    "\n",
    "上面的程序除了有很多的注释(#开头的那些行)，还有个特点：实际干活的的东西是放在main()这个**函数**里面的。\n",
    "\n",
    "函数的调用格式很简单：\n",
    "\n",
    "```python\n",
    "def 函数名():\n",
    "    函数内容\n",
    "```\n",
    "\n",
    "前面说过，python对于缩进的要求非常严格。因为python没有{}这样的符号表示代码块，所以代码块完全是按照缩进来判断层级的。现代的代码文本编辑器基本上都可以自动帮你缩进，所以一般不用你手动进行，但是脑子里面要有这个意识：代码缩进对不对？"
   ]
  },
  {
   "cell_type": "code",
   "execution_count": 22,
   "metadata": {
    "collapsed": true
   },
   "outputs": [],
   "source": [
    "def main():\n",
    "    print ('Hello there', sys.argv[1])"
   ]
  },
  {
   "cell_type": "markdown",
   "metadata": {},
   "source": [
    "可以看到上面的代码直接运行的话是不会有任何返回结果的。这是因为你还没有作任何的调用。一个函数在定义完以后要调用才行"
   ]
  },
  {
   "cell_type": "code",
   "execution_count": 23,
   "metadata": {
    "collapsed": false
   },
   "outputs": [
    {
     "name": "stdout",
     "output_type": "stream",
     "text": [
      "Hello there -f\n"
     ]
    }
   ],
   "source": [
    "main()"
   ]
  },
  {
   "cell_type": "markdown",
   "metadata": {},
   "source": [
    "那么在hello.py里面，main()的调用前面还有一个条件：\n",
    "```python\n",
    "if __name__ == '__main__':\n",
    "```"
   ]
  },
  {
   "cell_type": "markdown",
   "metadata": {},
   "source": [
    "ok, __name__又是什么鬼，'__main__'又是什么鬼？其实先不用管这么多，这是很常规的一种判断形势，如果你是直接运行这个代码，比如通过`python hello.py alice`，那么就是符合这个条件的需求的，但是，如果你是通过另外一个python代码调用了这个hello.py文件，那么这个条件就不会被满足，main()也就不会被调用了"
   ]
  },
  {
   "cell_type": "markdown",
   "metadata": {},
   "source": [
    "## 重要的事情说三遍!!! 定义一个你自己的函数\n",
    "\n",
    "前面大概提了一下怎么定义函数，下面这个就是一个自定义函数，看看代码先："
   ]
  },
  {
   "cell_type": "code",
   "execution_count": 24,
   "metadata": {
    "collapsed": true
   },
   "outputs": [],
   "source": [
    "# Defines a \"repeat\" function that takes 2 arguments.\n",
    "def repeat(s, exclaim):\n",
    "    \"\"\"\n",
    "    把s重复三遍返回\n",
    "    如果exclaim是True的话，后面还要加上!!!\n",
    "    \"\"\"\n",
    "\n",
    "    result = s + s + s # can also use \"s * 3\" which is faster (Why?)\n",
    "    if exclaim:\n",
    "        result = result + '!!!'\n",
    "    return result"
   ]
  },
  {
   "cell_type": "markdown",
   "metadata": {},
   "source": [
    "到现在我们可以看到代码里面都有很多的#。这个是表示注释的符号，写注释是一个很好的习惯，就算你现在再怎么确定你是知道这段程序是干嘛的，但是也应该写一下注释，毕竟3个月以后再来看代码的你会感谢现在写注释的自己。\n",
    "\n",
    "回头看看上面的代码，有几个地方注意一下：\n",
    "\n",
    "- 参数以及return\n",
    "- 缩进\n",
    "- +和\\*在字符串中的应用\n",
    "\n",
    "先看一下上面代码的第一行\n",
    "\n",
    "```python\n",
    "def repeat(s, exclaim):\n",
    "```\n",
    "\n",
    "def表示声明一个函数，repeat是这个函数的名字，括号里面的是这个函数参数的名字。这个函数有两个参数s和exclaim。\n",
    "\n",
    "然后是函数里面的这些：\n",
    "\n",
    "```python\n",
    "\"\"\"\n",
    "    把s重复三遍返回\n",
    "    如果exclaim是True的话，后面还要加上!!!\n",
    "\"\"\"\n",
    "```\n",
    "\n",
    "这些是一个function里面的docstring，文档字符串。用来说明一个函数的功能。一般都是一个函数的第一行，但是如果你想多打一些回车的话，那可以用\"\"\"三重引号来表示*这一大段文字都是字符串*\n",
    "\n",
    "> 三重引号是python独有的特性，js里面也有类似的一个三重撇号（es2015引入的？)\n",
    "\n",
    "再往下：\n",
    "\n",
    "```python\n",
    "result = s+s+s\n",
    "```\n",
    "\n",
    "这里+表示字符的连接。实际上对于字符串*也有意义，表示重复。所以再这个函数里面，用\\*更合适一些。\n",
    "\n",
    "> 如果我希望这个函数多一个参数times，表示重复s的次数，程序应该怎么改写？\\*是肯定要用的了\n",
    "\n",
    "如果要引用刚才我们定义的函数，把刚才写的main()函数修改成："
   ]
  },
  {
   "cell_type": "code",
   "execution_count": 25,
   "metadata": {
    "collapsed": true
   },
   "outputs": [],
   "source": [
    "def main():\n",
    "    print (repeat('Yay', False))\n",
    "    print (repeat('Woo Hoo', True))"
   ]
  },
  {
   "cell_type": "markdown",
   "metadata": {},
   "source": [
    "## 再说说缩进\n",
    "\n",
    "缩进对于python是有非常特殊的意义的。同属于一个层级的代码（比如一个if下面的一段，一个def里面的一段）需要具有同样的缩进。我以前写了一点点js，代码可能像这个样子：\n",
    "\n",
    "```javascript\n",
    "function foo(){\n",
    " var a = 10\n",
    " var b = 'temp'\n",
    " var c = 'cast'\n",
    " if(a>5){\n",
    "   console.log(b)\n",
    " }else{\n",
    "   console.log(c)\n",
    " }\n",
    "}\n",
    "```\n",
    "\n",
    "那么写成python的话是下面这个样子"
   ]
  },
  {
   "cell_type": "code",
   "execution_count": 26,
   "metadata": {
    "collapsed": false
   },
   "outputs": [],
   "source": [
    "def foo():\n",
    "    a = 10\n",
    "    b = 'temp'\n",
    "    c = 'cast'\n",
    "    if a>5 :\n",
    "        print(b)\n",
    "    else:\n",
    "        print(c)"
   ]
  },
  {
   "cell_type": "markdown",
   "metadata": {},
   "source": [
    "其实对比一下就可以看出来，python除了把function替换成def，console.log替换成print以外，其他的和js都差不多。最大的区别就是没了{}，少了一些()\n",
    "\n",
    "但是，**缩进**大家都是差不多的。\n",
    "\n",
    "当然，在js里面你可以不像上面这样缩进，程序不会说你有错，但是这种代码风格肯定是不OK的。python无非就是把这个代码风格上的要求变成了自己用来识别代码块的标准。所以用习惯了以后不会有什么反直觉的地方。\n",
    "\n",
    "一般来说，这个缩进啊，最好用空格键，不要用TAB键。另外有些地方代码是用两个空格，有些地方代码是用4个空格表示缩进，所以有时候你拷贝别人代码过来的时候会在这种地方出错，自己注意一下就好。\n",
    "\n",
    "所以到底是4个空格好还是2个空格好呢？PEP8标准建议4个，google内部用2个，所以你说咋整。"
   ]
  },
  {
   "cell_type": "markdown",
   "metadata": {},
   "source": [
    "## 代码的实时审查\n",
    "先看看下面的代码："
   ]
  },
  {
   "cell_type": "code",
   "execution_count": 27,
   "metadata": {
    "collapsed": false
   },
   "outputs": [
    {
     "ename": "SyntaxError",
     "evalue": "invalid syntax (<ipython-input-27-d4ad95284f58>, line 3)",
     "output_type": "error",
     "traceback": [
      "\u001b[0;36m  File \u001b[0;32m\"<ipython-input-27-d4ad95284f58>\"\u001b[0;36m, line \u001b[0;32m3\u001b[0m\n\u001b[0;31m    print repeeeet(name)+'!!!'\u001b[0m\n\u001b[0m                 ^\u001b[0m\n\u001b[0;31mSyntaxError\u001b[0m\u001b[0;31m:\u001b[0m invalid syntax\n"
     ]
    }
   ],
   "source": [
    "def main():\n",
    "    if name == 'Guido':\n",
    "        print repeeeet(name)+'!!!'\n",
    "    else:\n",
    "        print repeat(name)"
   ]
  },
  {
   "cell_type": "markdown",
   "metadata": {},
   "source": [
    "上面的代码是有错的，我们定义的函数叫做repeat()，不是repeeeet()。但是呢，如果你运行的话程序并不会报错。\n",
    "\n",
    "为什么呢？因为python是在运行的时候实时审查的。也就是说只要那么这个变量不是'Guido'这个值的话，print repeeeet(name)+'!!!'这一支代码根本就不会被运行，所以也就不会发现错误。\n",
    "\n",
    "如果你只是写一下'hello world!'这样无关痛痒的小代码玩玩就算了，如果这是出错以后很要命的代码的话呢（比如用在自动驾驶或者医疗器械上面的代码），这就有点可怕了。因为如果没有很好的测试，你的代码可能写的时候完全ok，等到交付用户使用了以后才出问题。\n",
    "\n",
    "像C#，java这样的静态检查代码就不会有这样的问题。当然了，这类语言的编写也有更多条条框框，毕竟有得必有失。"
   ]
  },
  {
   "cell_type": "markdown",
   "metadata": {},
   "source": [
    "## 代码的命名\n",
    "给代码命名的时候，不要像前面这样a啊，b啊之类的，这种变量命名完全没有任何意义，别人不容易看懂，自己也看不懂。有意义的变量名可以帮你更好的表达程序的意义。\n",
    "\n",
    "如果变量名用一个单词不能完全表达意思的话，你可以在单词之间用\\_（下划线)连接，也可以用骆驼命名法来命名，比如camelName，也就是每个单词的第一个字母大写。一般来说用下划线连接更常用这种方法更常用。\n",
    "\n",
    "当然了，像print, def, if, else之类这些东西是不应该作为变量名的。这类词统称保留字。一般的编程书籍都会单独开辟出一个区域来列一大堆的保留字，搞得你不背都不好意思一样。但是其实没什么可背的，首先，如果你用的是代码文本编辑器（比如sublime，atom）或者python的ide（比如pycharm），那么保留字会有特殊的颜色显示。此外代码只要写上一段时间都会对常用的保留字有所了解的了。\n",
    "\n",
    "## 模块以及命名空间\n",
    "比如你在一个binky.py的代码文件里面定义了一个函数'def foo()'。这个foo的全称实际上应该是binky.foo。这样的一个命名空间法则保证了不同文件里面的同名函数、对象不会彼此冲突。\n",
    "\n",
    "之前遇到了sys.argv[1]，这里面的sys就是一个模块，argv是这个模块下面的一个list。通过命名空间我们拿到了它。\n",
    "\n",
    "```python\n",
    "import sys\n",
    "print(sys.argv)\n",
    "```\n",
    "\n",
    "除了单纯的import，还有`from sys import argv, exit`。这个代码的作用是把argv, exit这两个东西直接放到当前代码下面，前面不用再跟sys了。如果要引入的对象很常用，`from ... import ...`是不错的一个方式，但是平时还是单纯用import更好一些。毕竟sys.argv比起argv更能说明argv是个什么东西。\n",
    "\n",
    "## 获取帮助\n",
    "python自己是有文档的，你可以使用help()或者dir()获取一个函数的帮助说明。help的说明比dir要详细一些。\n",
    "\n",
    "除了自带的说明，你还可以去网上查文档，[官方的文档地址](http://docs.python.org/)\n",
    "\n",
    "然后更好的寻找答案的地方其实是在线编程社区，比如[stackoverflow](http://stackoverflow.com/questions/tagged/python)和[quora](http://quora.com/Python-programming-language)\n",
    "\n",
    "**但是，最重要的，还是自己敲代码。**"
   ]
  },
  {
   "cell_type": "markdown",
   "metadata": {},
   "source": [
    "---"
   ]
  },
  {
   "cell_type": "markdown",
   "metadata": {},
   "source": [
    "# python入门 - 字符串的操作\n",
    "\n",
    "python自带了一个str类用来处理字符串。字符串可以用单引号（''）或者双引号（\"\"）来表示。\n",
    "\n",
    "> 类(class)是什么？well……总之你把它当成一个东西（object），有很多功能的东西就行了\n",
    "\n",
    "所以如果字符串里面有'或者\"怎么办呢？比如这么个字符串"
   ]
  },
  {
   "cell_type": "code",
   "execution_count": 28,
   "metadata": {
    "collapsed": false
   },
   "outputs": [
    {
     "name": "stdout",
     "output_type": "stream",
     "text": [
      "He said:\"thanks\"\n"
     ]
    }
   ],
   "source": [
    "print('He said:\"thanks\"')"
   ]
  },
  {
   "cell_type": "code",
   "execution_count": 29,
   "metadata": {
    "collapsed": false
   },
   "outputs": [
    {
     "name": "stdout",
     "output_type": "stream",
     "text": [
      "I didn't do it\n"
     ]
    }
   ],
   "source": [
    "print(\"I didn't do it\")"
   ]
  },
  {
   "cell_type": "code",
   "execution_count": 30,
   "metadata": {
    "collapsed": false
   },
   "outputs": [
    {
     "ename": "SyntaxError",
     "evalue": "invalid syntax (<ipython-input-30-53584c91997f>, line 1)",
     "output_type": "error",
     "traceback": [
      "\u001b[0;36m  File \u001b[0;32m\"<ipython-input-30-53584c91997f>\"\u001b[0;36m, line \u001b[0;32m1\u001b[0m\n\u001b[0;31m    print('I didn't do it')\u001b[0m\n\u001b[0m                  ^\u001b[0m\n\u001b[0;31mSyntaxError\u001b[0m\u001b[0;31m:\u001b[0m invalid syntax\n"
     ]
    }
   ],
   "source": [
    "print('I didn't do it')\n",
    "#你看，颜色都不对了"
   ]
  },
  {
   "cell_type": "code",
   "execution_count": 31,
   "metadata": {
    "collapsed": false
   },
   "outputs": [
    {
     "name": "stdout",
     "output_type": "stream",
     "text": [
      "I didn't do it\n"
     ]
    }
   ],
   "source": [
    "print('I didn\\'t do it')"
   ]
  },
  {
   "cell_type": "markdown",
   "metadata": {},
   "source": [
    "可以看到''里面可以放双引号，\"\"里面可以放单引号。如果一定要在单引号里面放单引号，也可以用\\来做escape。\n",
    "\n",
    "之前我们还提到了docstring这么个东西，在一个函数的开头放上docstring用来说明这个函数是干嘛的。docstring可以用\"\"\"实现多行字符串的输入。三重引号除了可以换行，还可以在里面随便输入："
   ]
  },
  {
   "cell_type": "code",
   "execution_count": 32,
   "metadata": {
    "collapsed": false
   },
   "outputs": [
    {
     "name": "stdout",
     "output_type": "stream",
     "text": [
      "\n",
      "testing\n",
      "testing\n",
      "''\n",
      "\"\"\n",
      "\n"
     ]
    }
   ],
   "source": [
    "print(\"\"\"\n",
    "testing\n",
    "testing\n",
    "''\n",
    "\"\"\n",
    "\"\"\")"
   ]
  },
  {
   "cell_type": "markdown",
   "metadata": {},
   "source": [
    "不再受到双引号单引号引号的限制了。\n",
    "\n",
    "## 不可变的字符串\n",
    "在python里面，字符串是不可变的。看一下下面的代码："
   ]
  },
  {
   "cell_type": "code",
   "execution_count": 33,
   "metadata": {
    "collapsed": false
   },
   "outputs": [
    {
     "name": "stdout",
     "output_type": "stream",
     "text": [
      "the old one changed\n",
      "the old one\n"
     ]
    }
   ],
   "source": [
    "string1 = \"the old one\"\n",
    "string2 = string1\n",
    "string1 = string1+\" changed\"\n",
    "print(string1)\n",
    "print(string2)"
   ]
  },
  {
   "cell_type": "markdown",
   "metadata": {},
   "source": [
    "粗略一点说的话，字符串的不可变性决定了我们在赋值的时候，做的是拷贝，而不是引用。（如果是引用的话，那当我们在更改string1的时候，因为之前string1已经赋值给string2了，string2也应该跟着变化。）"
   ]
  },
  {
   "cell_type": "code",
   "execution_count": 34,
   "metadata": {
    "collapsed": false
   },
   "outputs": [
    {
     "name": "stdout",
     "output_type": "stream",
     "text": [
      "[1, 2, 3, 4, 5]\n",
      "[1, 2, 3, 4, 5]\n"
     ]
    }
   ],
   "source": [
    "list1 = [1,2,3,4]\n",
    "list2 = list1\n",
    "list1.append(5)\n",
    "print(list1)\n",
    "print(list2)"
   ]
  },
  {
   "cell_type": "markdown",
   "metadata": {},
   "source": [
    "像list这样的，才是mutable的，list1变了，list2也会跟着变。关于list晚一些再说。\n",
    "\n",
    "字符串里面某个位置的字符可以通过[]来获取。和java或者c++一样，python的序号也是从0开始。所以'hello'[1]是e而不是h。如果序号超出了字符串返回就会报错"
   ]
  },
  {
   "cell_type": "code",
   "execution_count": 35,
   "metadata": {
    "collapsed": false
   },
   "outputs": [
    {
     "data": {
      "text/plain": [
       "'e'"
      ]
     },
     "execution_count": 35,
     "metadata": {},
     "output_type": "execute_result"
    }
   ],
   "source": [
    "'hello'[1]"
   ]
  },
  {
   "cell_type": "code",
   "execution_count": 36,
   "metadata": {
    "collapsed": false
   },
   "outputs": [
    {
     "ename": "IndexError",
     "evalue": "string index out of range",
     "output_type": "error",
     "traceback": [
      "\u001b[0;31m---------------------------------------------------------------------------\u001b[0m",
      "\u001b[0;31mIndexError\u001b[0m                                Traceback (most recent call last)",
      "\u001b[0;32m<ipython-input-36-5cdae376624e>\u001b[0m in \u001b[0;36m<module>\u001b[0;34m()\u001b[0m\n\u001b[0;32m----> 1\u001b[0;31m \u001b[0;34m'hello'\u001b[0m\u001b[0;34m[\u001b[0m\u001b[0;36m5\u001b[0m\u001b[0;34m]\u001b[0m\u001b[0;34m\u001b[0m\u001b[0m\n\u001b[0m",
      "\u001b[0;31mIndexError\u001b[0m: string index out of range"
     ]
    }
   ],
   "source": [
    "'hello'[5]"
   ]
  },
  {
   "cell_type": "markdown",
   "metadata": {},
   "source": [
    "在**字符串**里面，+表示字符串的连接。所以+的两边都要是字符串"
   ]
  },
  {
   "cell_type": "code",
   "execution_count": 37,
   "metadata": {
    "collapsed": true
   },
   "outputs": [],
   "source": [
    "pi = 3.14\n",
    "# text = 'value of pi is ' + pi\n",
    "# this is wrong\n",
    "text = 'value of pi is' + str(pi)"
   ]
  },
  {
   "cell_type": "markdown",
   "metadata": {},
   "source": [
    "像前面所说的，*在字符串操作中表示重复："
   ]
  },
  {
   "cell_type": "code",
   "execution_count": 1,
   "metadata": {
    "collapsed": false
   },
   "outputs": [
    {
     "name": "stdout",
     "output_type": "stream",
     "text": [
      "abcd abcd abcd \n"
     ]
    }
   ],
   "source": [
    "print(\"abcd \"*3)"
   ]
  },
  {
   "cell_type": "markdown",
   "metadata": {},
   "source": [
    "python还有一种raw模式的字符串：在字符串的前面加一个r表示这个字符串是raw模式。看一下下面的代码，比较raw和普通模式字符串的区别"
   ]
  },
  {
   "cell_type": "code",
   "execution_count": 2,
   "metadata": {
    "collapsed": false
   },
   "outputs": [
    {
     "name": "stdout",
     "output_type": "stream",
     "text": [
      "this\t\n",
      " and that\n"
     ]
    }
   ],
   "source": [
    "print('this\\t\\n and that')"
   ]
  },
  {
   "cell_type": "code",
   "execution_count": 3,
   "metadata": {
    "collapsed": false
   },
   "outputs": [
    {
     "name": "stdout",
     "output_type": "stream",
     "text": [
      "this\\t\\n and that\n"
     ]
    }
   ],
   "source": [
    "print(r'this\\t\\n and that')"
   ]
  },
  {
   "cell_type": "markdown",
   "metadata": {},
   "source": [
    "## 字符串的方法\n",
    "\n",
    "字符串类有自己的方法，这些方法可以用来做常用的字符串处理，比如：\n",
    "\n",
    "- s.lower()和s.upper()分别会把字母转成大些和小写"
   ]
  },
  {
   "cell_type": "code",
   "execution_count": 39,
   "metadata": {
    "collapsed": false
   },
   "outputs": [
    {
     "name": "stdout",
     "output_type": "stream",
     "text": [
      "python string\n"
     ]
    }
   ],
   "source": [
    "print('Python String'.lower())"
   ]
  },
  {
   "cell_type": "code",
   "execution_count": 40,
   "metadata": {
    "collapsed": false
   },
   "outputs": [
    {
     "name": "stdout",
     "output_type": "stream",
     "text": [
      "PYTHON STRING\n"
     ]
    }
   ],
   "source": [
    "print('Python String'.upper())"
   ]
  },
  {
   "cell_type": "markdown",
   "metadata": {},
   "source": [
    "方法和函数很相似。不过方法是依托于对象，或者在我们这里，依托于类。一个字符串就是字符串类的一个instance（实例）。一个实例怎么调用类的方法呢？就像上面的代码一样：\n",
    "\n",
    "```python\n",
    "实例.方法(参数)\n",
    "```\n",
    "\n",
    "在一个类的实例上面使用一个方法，获得一个返回结果，这是面向对象编程的基础思想。如果现在你不理解也没关系，记住这种用法。也就是说，如果你要想把一个字符串的所有字符转换成大些字母，你不能像获取字符串长度一样：\n",
    "\n",
    "```python\n",
    "len('python')\n",
    "```\n",
    "\n",
    "而是要写成`'python'.upper()`。\n",
    "\n",
    "- s.isalpha(), s.isdigit(), s.isspace()分别返回是否是字母，是否是数字，是否是空格"
   ]
  },
  {
   "cell_type": "code",
   "execution_count": 41,
   "metadata": {
    "collapsed": false
   },
   "outputs": [
    {
     "name": "stdout",
     "output_type": "stream",
     "text": [
      "a is alpha: True\n",
      "1 is alpha: False\n",
      "  is alpha: False\n"
     ]
    }
   ],
   "source": [
    "print('a is alpha: %s' %'a'.isalpha())\n",
    "print('1 is alpha: %s' %'1'.isalpha())\n",
    "print('  is alpha: %s' %' '.isalpha())"
   ]
  },
  {
   "cell_type": "code",
   "execution_count": 42,
   "metadata": {
    "collapsed": false
   },
   "outputs": [
    {
     "name": "stdout",
     "output_type": "stream",
     "text": [
      "a is digit: False\n",
      "1 is digit: True\n",
      "  is digit: False\n"
     ]
    }
   ],
   "source": [
    "print('a is digit: %s' %'a'.isdigit())\n",
    "print('1 is digit: %s' %'1'.isdigit())\n",
    "print('  is digit: %s' %' '.isdigit())"
   ]
  },
  {
   "cell_type": "code",
   "execution_count": 43,
   "metadata": {
    "collapsed": false
   },
   "outputs": [
    {
     "name": "stdout",
     "output_type": "stream",
     "text": [
      "a is space: False\n",
      "1 is space: False\n",
      "  is space: True\n"
     ]
    }
   ],
   "source": [
    "print('a is space: %s' %'a'.isspace())\n",
    "print('1 is space: %s' %'1'.isspace())\n",
    "print('  is space: %s' %' '.isspace())"
   ]
  },
  {
   "cell_type": "markdown",
   "metadata": {},
   "source": [
    "- s.strip()去除开头和结尾的空白符号"
   ]
  },
  {
   "cell_type": "code",
   "execution_count": 5,
   "metadata": {
    "collapsed": false
   },
   "outputs": [
    {
     "name": "stdout",
     "output_type": "stream",
     "text": [
      " strip the white spaces \n",
      "strip the white spaces\n"
     ]
    }
   ],
   "source": [
    "print(' strip the white spaces ')\n",
    "print(' strip the white spaces '.strip())"
   ]
  },
  {
   "cell_type": "markdown",
   "metadata": {},
   "source": [
    "- s.startswith('other'):判断字符串s是不是以参数给出的字符串作为开始"
   ]
  },
  {
   "cell_type": "code",
   "execution_count": 7,
   "metadata": {
    "collapsed": false
   },
   "outputs": [
    {
     "name": "stdout",
     "output_type": "stream",
     "text": [
      "True\n"
     ]
    }
   ],
   "source": [
    "print('alphabet start with '.startswith('alpha'))"
   ]
  },
  {
   "cell_type": "markdown",
   "metadata": {},
   "source": [
    "- s.find('other'): 判断字符串是否包含参数的字符串，如果有，返回所在位置；如果没有，返回-1"
   ]
  },
  {
   "cell_type": "code",
   "execution_count": 8,
   "metadata": {
    "collapsed": false
   },
   "outputs": [
    {
     "name": "stdout",
     "output_type": "stream",
     "text": [
      "12\n"
     ]
    }
   ],
   "source": [
    "print('there is an apple here'.find('apple'))"
   ]
  },
  {
   "cell_type": "code",
   "execution_count": 13,
   "metadata": {
    "collapsed": false
   },
   "outputs": [
    {
     "name": "stdout",
     "output_type": "stream",
     "text": [
      "apple here\n"
     ]
    }
   ],
   "source": [
    "print('there is an apple here'[12:])"
   ]
  },
  {
   "cell_type": "code",
   "execution_count": 14,
   "metadata": {
    "collapsed": false
   },
   "outputs": [
    {
     "name": "stdout",
     "output_type": "stream",
     "text": [
      "-1\n"
     ]
    }
   ],
   "source": [
    "print('there is an apple here'.find('banana'))"
   ]
  },
  {
   "cell_type": "markdown",
   "metadata": {},
   "source": [
    "- s.replace('old','new'): 有find自然就会有replace。replace方法把字符串s里面找到的字符（'old')替换成新的字符('new')，并返回替换以后的字符。看一下代码："
   ]
  },
  {
   "cell_type": "code",
   "execution_count": 15,
   "metadata": {
    "collapsed": false
   },
   "outputs": [
    {
     "name": "stdout",
     "output_type": "stream",
     "text": [
      "there is an banana here\n"
     ]
    }
   ],
   "source": [
    "print('there is an apple here'.replace('apple','banana'))"
   ]
  },
  {
   "cell_type": "markdown",
   "metadata": {},
   "source": [
    "- s.split('delim'): 依据分隔符把字符串拆分成列表并返回，我们看一下例子："
   ]
  },
  {
   "cell_type": "code",
   "execution_count": 18,
   "metadata": {
    "collapsed": false
   },
   "outputs": [
    {
     "name": "stdout",
     "output_type": "stream",
     "text": [
      "['alpha', 'beta', 'gamma']\n"
     ]
    }
   ],
   "source": [
    "print('alpha beta gamma'.split(\" \"))"
   ]
  },
  {
   "cell_type": "code",
   "execution_count": 19,
   "metadata": {
    "collapsed": false
   },
   "outputs": [
    {
     "name": "stdout",
     "output_type": "stream",
     "text": [
      "['one', 'two', 'three']\n"
     ]
    }
   ],
   "source": [
    "print('one,two,three'.split(','))"
   ]
  },
  {
   "cell_type": "code",
   "execution_count": 20,
   "metadata": {
    "collapsed": false
   },
   "outputs": [
    {
     "name": "stdout",
     "output_type": "stream",
     "text": [
      "['alpha', 'beta', 'gamma']\n"
     ]
    }
   ],
   "source": [
    "print('alpha beta gamma'.split())\n",
    "# split()的参数为空的时候，默认使用空格作为分隔符"
   ]
  },
  {
   "cell_type": "markdown",
   "metadata": {},
   "source": [
    "- s.join(list): 把列表进行连接，返回一个字符串，我们看一下例子："
   ]
  },
  {
   "cell_type": "code",
   "execution_count": 24,
   "metadata": {
    "collapsed": false
   },
   "outputs": [
    {
     "name": "stdout",
     "output_type": "stream",
     "text": [
      "a--b--c\n"
     ]
    }
   ],
   "source": [
    "print('--'.join(['a','b','c']))"
   ]
  },
  {
   "cell_type": "code",
   "execution_count": 25,
   "metadata": {
    "collapsed": false
   },
   "outputs": [
    {
     "name": "stdout",
     "output_type": "stream",
     "text": [
      "1,2,3\n"
     ]
    }
   ],
   "source": [
    "print(','.join(['1','2','3']))"
   ]
  },
  {
   "cell_type": "code",
   "execution_count": 27,
   "metadata": {
    "collapsed": false
   },
   "outputs": [
    {
     "ename": "TypeError",
     "evalue": "'builtin_function_or_method' object is not subscriptable",
     "output_type": "error",
     "traceback": [
      "\u001b[0;31m---------------------------------------------------------------------------\u001b[0m",
      "\u001b[0;31mTypeError\u001b[0m                                 Traceback (most recent call last)",
      "\u001b[0;32m<ipython-input-27-a01060b8b24b>\u001b[0m in \u001b[0;36m<module>\u001b[0;34m()\u001b[0m\n\u001b[0;32m----> 1\u001b[0;31m \u001b[0mprint\u001b[0m\u001b[0;34m(\u001b[0m\u001b[0;34m','\u001b[0m\u001b[0;34m.\u001b[0m\u001b[0mjoin\u001b[0m\u001b[0;34m[\u001b[0m\u001b[0;36m1\u001b[0m\u001b[0;34m,\u001b[0m\u001b[0;36m2\u001b[0m\u001b[0;34m,\u001b[0m\u001b[0;36m3\u001b[0m\u001b[0;34m]\u001b[0m\u001b[0;34m)\u001b[0m\u001b[0;34m\u001b[0m\u001b[0m\n\u001b[0m",
      "\u001b[0;31mTypeError\u001b[0m: 'builtin_function_or_method' object is not subscriptable"
     ]
    }
   ],
   "source": [
    "print(','.join[1,2,3])"
   ]
  },
  {
   "cell_type": "markdown",
   "metadata": {},
   "source": [
    "第三个为什么会报错呢？\n",
    "\n",
    "## 字符串的切分\n",
    "\n",
    "在前面我们的代码里面出现了这样一行：\n",
    "\n",
    "```python\n",
    "print('there is an apple here'[12:])\n",
    "```\n",
    "\n",
    "这个就是对字符串做了一个切分。接下来仔细讲一下。切分指的是获取一个序列的一部分，这是列表或者字符串经常需要进行的操作。s[开始:结束]这个写法还有一些细节需要额外提一下。让我们以’hello‘为例，用几行程序讲解一下。"
   ]
  },
  {
   "cell_type": "code",
   "execution_count": 29,
   "metadata": {
    "collapsed": false
   },
   "outputs": [
    {
     "name": "stdout",
     "output_type": "stream",
     "text": [
      "ell\n"
     ]
    }
   ],
   "source": [
    "str = 'Hello'\n",
    "#  H  e  l  l  o\n",
    "#  0  1  2  3  4\n",
    "# -5 -4 -3 -2 -1\n",
    "print(str[1:4])\n",
    "#包头不包尾"
   ]
  },
  {
   "cell_type": "code",
   "execution_count": 30,
   "metadata": {
    "collapsed": false
   },
   "outputs": [
    {
     "name": "stdout",
     "output_type": "stream",
     "text": [
      "ello\n"
     ]
    }
   ],
   "source": [
    "print(str[1:])\n",
    "#不给出结束的时候就一直截取到序列的结尾"
   ]
  },
  {
   "cell_type": "code",
   "execution_count": 31,
   "metadata": {
    "collapsed": false
   },
   "outputs": [
    {
     "name": "stdout",
     "output_type": "stream",
     "text": [
      "Hello\n"
     ]
    }
   ],
   "source": [
    "print(str[:])\n",
    "#开始也不给出的时候就获取序列的全部"
   ]
  },
  {
   "cell_type": "code",
   "execution_count": 32,
   "metadata": {
    "collapsed": false
   },
   "outputs": [
    {
     "name": "stdout",
     "output_type": "stream",
     "text": [
      "ello\n"
     ]
    }
   ],
   "source": [
    "print(str[1:100])\n",
    "#超出范围的时候，不会报错，只会按照序列实际情况进行截取"
   ]
  },
  {
   "cell_type": "code",
   "execution_count": 39,
   "metadata": {
    "collapsed": false
   },
   "outputs": [
    {
     "ename": "IndexError",
     "evalue": "string index out of range",
     "output_type": "error",
     "traceback": [
      "\u001b[0;31m---------------------------------------------------------------------------\u001b[0m",
      "\u001b[0;31mIndexError\u001b[0m                                Traceback (most recent call last)",
      "\u001b[0;32m<ipython-input-39-2ef59b0d2401>\u001b[0m in \u001b[0;36m<module>\u001b[0;34m()\u001b[0m\n\u001b[0;32m----> 1\u001b[0;31m \u001b[0mprint\u001b[0m\u001b[0;34m(\u001b[0m\u001b[0mstr\u001b[0m\u001b[0;34m[\u001b[0m\u001b[0;36m100\u001b[0m\u001b[0;34m]\u001b[0m\u001b[0;34m)\u001b[0m\u001b[0;34m\u001b[0m\u001b[0m\n\u001b[0m\u001b[1;32m      2\u001b[0m \u001b[0;31m#不过根据序号获取特定位置元素的时候，还是要注意别超出范围才好\u001b[0m\u001b[0;34m\u001b[0m\u001b[0;34m\u001b[0m\u001b[0m\n",
      "\u001b[0;31mIndexError\u001b[0m: string index out of range"
     ]
    }
   ],
   "source": [
    "print(str[100])\n",
    "#不过根据序号获取特定位置元素的时候，还是要注意别超出范围才好"
   ]
  },
  {
   "cell_type": "markdown",
   "metadata": {},
   "source": [
    "从0开始的序列计数可以方便我们从序列的开头进行切分，但是如果你想拿到字符串后面几个字符怎么办呢？python除了0开始的序列，还有一个从最后往前倒数的负数序列。还是看几个例子:"
   ]
  },
  {
   "cell_type": "code",
   "execution_count": 33,
   "metadata": {
    "collapsed": false
   },
   "outputs": [
    {
     "name": "stdout",
     "output_type": "stream",
     "text": [
      "o\n"
     ]
    }
   ],
   "source": [
    "print(str[-1])\n",
    "#最后一个字符"
   ]
  },
  {
   "cell_type": "code",
   "execution_count": 40,
   "metadata": {
    "collapsed": false
   },
   "outputs": [
    {
     "name": "stdout",
     "output_type": "stream",
     "text": [
      "e\n"
     ]
    }
   ],
   "source": [
    "print(str[-4])\n",
    "#倒数第四个字符"
   ]
  },
  {
   "cell_type": "code",
   "execution_count": 41,
   "metadata": {
    "collapsed": false
   },
   "outputs": [
    {
     "name": "stdout",
     "output_type": "stream",
     "text": [
      "He\n"
     ]
    }
   ],
   "source": [
    "print(str[:-3])\n",
    "#从第一个字符开始，到倒数第三个字符"
   ]
  },
  {
   "cell_type": "code",
   "execution_count": 42,
   "metadata": {
    "collapsed": false
   },
   "outputs": [
    {
     "name": "stdout",
     "output_type": "stream",
     "text": [
      "llo\n"
     ]
    }
   ],
   "source": [
    "print(str[-3:])\n",
    "#从倒数第三个字符开始，到最后一个字符"
   ]
  },
  {
   "cell_type": "markdown",
   "metadata": {},
   "source": [
    "切分包头不包尾的特性决定了一个很好的特点：s[:n]+s[n:]==s。不管你的n是正数，负数或者是超出了字符串范围的一个数字，这个等式都成立。在后面list部分可以看到，这个特点对于list也是成立的。\n",
    "\n",
    "## 字符串的%\n",
    "\n",
    "首先说一下，%这个符号是c语言的老物了，当然python不像是要放弃支持这个特性的样子，不过其实format()这个方法也是不错的。\n",
    "\n",
    "%在字符串是一个有特定意义的**运算符**。先看几个例子："
   ]
  },
  {
   "cell_type": "code",
   "execution_count": 45,
   "metadata": {
    "collapsed": false
   },
   "outputs": [
    {
     "name": "stdout",
     "output_type": "stream",
     "text": [
      "I have 3 apples\n"
     ]
    }
   ],
   "source": [
    "text = 'I have %d apples' % 3\n",
    "print(text)"
   ]
  },
  {
   "cell_type": "code",
   "execution_count": 46,
   "metadata": {
    "collapsed": false
   },
   "outputs": [
    {
     "name": "stdout",
     "output_type": "stream",
     "text": [
      "john was fined 5 times this week\n"
     ]
    }
   ],
   "source": [
    "text = '%s was fined %d times this week' % ('john',5)\n",
    "print(text)"
   ]
  },
  {
   "cell_type": "markdown",
   "metadata": {},
   "source": [
    "在第一个例子里面，3替换了字符串里面的%d。而在第二个例子里面，有两个地方都有%，第一个%s被'john'替代，%d被5替代。%s在%d前面出现，所以会从()里面取第一个元素，%d相应的就会取第二个元素。()将两个元素括起来，组成了一个tuple。\n",
    "\n",
    "## if\n",
    "\n",
    "if判定是所有程序都会具备的功能。一个if判定一般具有下面这样的结构：\n",
    "\n",
    "```python\n",
    "if 条件 :\n",
    "    语句块1\n",
    "elif 条件2:\n",
    "    语句块2\n",
    "else:\n",
    "    语句块3\n",
    "```\n",
    "\n",
    "下面的代码，根据星期几输出文本："
   ]
  },
  {
   "cell_type": "code",
   "execution_count": 51,
   "metadata": {
    "collapsed": false
   },
   "outputs": [
    {
     "name": "stdout",
     "output_type": "stream",
     "text": [
      "1 more days of work before weekend\n"
     ]
    }
   ],
   "source": [
    "weekDay = 5\n",
    "if weekDay<1 or weekDay>7:\n",
    "    print('weekDay should be 1 to 7')\n",
    "elif weekDay < 6:\n",
    "    print('%d more days of work before weekend!' % (6-weekDay))\n",
    "else:\n",
    "    print('weekend!')"
   ]
  },
  {
   "cell_type": "markdown",
   "metadata": {},
   "source": [
    "上面的代码里，首先是判断给出的weekDay变量是不是1到7的数字，如果不是的话就报错。如果确实是1到7的数字（既不小于1也不大于7）那么就做判断，这个数字是小于6的么？如果是那么就表示现在是周一到周五，所以输出当前距离周末还有多少天。最后在else给出上面的判断都为否的时候执行的语句：输出weekend!"
   ]
  },
  {
   "cell_type": "markdown",
   "metadata": {},
   "source": [
    "# 列表\n",
    "\n",
    "有些程序也把这个东西叫做数组。列表由[]括起来"
   ]
  },
  {
   "cell_type": "code",
   "execution_count": 54,
   "metadata": {
    "collapsed": false
   },
   "outputs": [
    {
     "name": "stdout",
     "output_type": "stream",
     "text": [
      "red\n",
      "green\n",
      "3\n"
     ]
    }
   ],
   "source": [
    "colors = ['red','blue','green']\n",
    "print (colors[0])\n",
    "print (colors[2])\n",
    "print (len(colors))"
   ]
  },
  {
   "cell_type": "markdown",
   "metadata": {},
   "source": [
    "colors这个数组标号和内容的对应情况如下表所示\n",
    "\n",
    "| 标号     | 内容     |\n",
    "| :------------- | :------------- |\n",
    "| 0| red  |\n",
    "| 1| blue |\n",
    "| 2| green|\n",
    "\n",
    "和string不一样，使用list的赋值不是复制，而是引用。再重新看一下前面提到的例子：\n"
   ]
  },
  {
   "cell_type": "code",
   "execution_count": 56,
   "metadata": {
    "collapsed": false
   },
   "outputs": [
    {
     "name": "stdout",
     "output_type": "stream",
     "text": [
      "[1, 2, 5] [1, 2, 5]\n"
     ]
    }
   ],
   "source": [
    "#list的赋值\n",
    "list1 = [1,2,3]\n",
    "list2 = list1\n",
    "list1[2]=5\n",
    "print(list1,list2)"
   ]
  },
  {
   "cell_type": "code",
   "execution_count": 59,
   "metadata": {
    "collapsed": false
   },
   "outputs": [
    {
     "name": "stdout",
     "output_type": "stream",
     "text": [
      "ABC abc\n"
     ]
    }
   ],
   "source": [
    "#字符串的赋值\n",
    "str1 = 'abc'\n",
    "str2 = str1\n",
    "str1 = str1.upper()\n",
    "print(str1,str2)"
   ]
  },
  {
   "cell_type": "markdown",
   "metadata": {},
   "source": [
    "在上面的例子里面，我们利用赋值在list2和list1之间划了等号，和字符串的赋值不同，list的赋值传递的不是值，而是引用。简单的说，当你把list1赋值给list2以后，对list1的所有修改也会导致list2出现同样的变化。但是有的时候我们只希望list2获得list1当前的列表，但是并不希望list1的变化对list2产生影响，这个时侯可以考虑使用slice。"
   ]
  },
  {
   "cell_type": "code",
   "execution_count": 60,
   "metadata": {
    "collapsed": false
   },
   "outputs": [
    {
     "name": "stdout",
     "output_type": "stream",
     "text": [
      "[1, 0, 3] [1, 2, 3]\n"
     ]
    }
   ],
   "source": [
    "list1 = [1,2,3]\n",
    "list2 = list1[:]\n",
    "list1[1]=0\n",
    "print(list1,list2)"
   ]
  },
  {
   "cell_type": "markdown",
   "metadata": {},
   "source": [
    "现在list1的变化就不会影响list2了。\n",
    "\n",
    "## for 和 in\n",
    "\n",
    "介绍编程肯定要讲到循环。常用的循环方式包括了for和while。我们先说一下for...in...循环。\n",
    "\n",
    "至少在python里面，for...in...循环是极其重要的。我们看一下下面的例程，程序的作用是把列表做一个累加求和："
   ]
  },
  {
   "cell_type": "code",
   "execution_count": 62,
   "metadata": {
    "collapsed": false
   },
   "outputs": [
    {
     "name": "stdout",
     "output_type": "stream",
     "text": [
      "1\n",
      "5\n",
      "14\n",
      "30\n"
     ]
    }
   ],
   "source": [
    "squares = [1,4,9,16]\n",
    "sum = 0\n",
    "for num in squares:\n",
    "    sum += num\n",
    "    print (sum)"
   ]
  },
  {
   "cell_type": "markdown",
   "metadata": {},
   "source": [
    "先看一下为什么会出来4个结果呢？提示：缩进\n",
    "\n",
    "python里面是通过缩进来定义语句块的，我们把print(sum)放在了和sum+=num一个层次，就表示两个语句都是隶属于for...in...循环的。一般来说使用具有编程功能的文本编辑器都可以帮你自动缩进，但是如果你要退出当前的层次，到上一个层次的话，还是需要手动操作的。修改一下程序编程下面的样子就不会输出四次了："
   ]
  },
  {
   "cell_type": "code",
   "execution_count": 63,
   "metadata": {
    "collapsed": false
   },
   "outputs": [
    {
     "name": "stdout",
     "output_type": "stream",
     "text": [
      "30\n"
     ]
    }
   ],
   "source": [
    "squares = [1,4,9,16]\n",
    "sum = 0\n",
    "for num in squares:\n",
    "    sum += num\n",
    "print(sum)"
   ]
  },
  {
   "cell_type": "markdown",
   "metadata": {},
   "source": [
    "接下来具体讲一下上面的程序。首先是`for num in squares:`，和if以及def一样，后面有个:，这个不要忘了。之所以写num，是因为我们知道squares里面的元素是一个个数字（number）起这个名字可以方便我们读懂程序。`for a in b`的结构里面，b是一个序列，a是这个序列里面的一个个元素。for循环会从序列的最开始往后一个个的遍历。"
   ]
  },
  {
   "cell_type": "code",
   "execution_count": 64,
   "metadata": {
    "collapsed": false
   },
   "outputs": [
    {
     "name": "stdout",
     "output_type": "stream",
     "text": [
      "1\n",
      "2\n",
      "3\n",
      "4\n",
      "5\n"
     ]
    }
   ],
   "source": [
    "for e in [1,2,3,4,5]:\n",
    "    print(e)"
   ]
  },
  {
   "cell_type": "markdown",
   "metadata": {},
   "source": [
    "in这个词在python里面也是很重要的一个工具。在前面我们提到str.find('other')可以查找一个字符串中是否含有某段文字，并返回这段文字所在的位置。但是如果我们只想知道一个字符串是不是含有某段文字，或者一个列表是不是含有某个元素，使用in是更快的办法："
   ]
  },
  {
   "cell_type": "code",
   "execution_count": 65,
   "metadata": {
    "collapsed": false
   },
   "outputs": [
    {
     "name": "stdout",
     "output_type": "stream",
     "text": [
      "True\n"
     ]
    }
   ],
   "source": [
    "print(1 in [1,2,3])"
   ]
  },
  {
   "cell_type": "code",
   "execution_count": 66,
   "metadata": {
    "collapsed": false
   },
   "outputs": [
    {
     "name": "stdout",
     "output_type": "stream",
     "text": [
      "True\n"
     ]
    }
   ],
   "source": [
    "print('alpha' in 'alpha dog')"
   ]
  },
  {
   "cell_type": "code",
   "execution_count": 67,
   "metadata": {
    "collapsed": false
   },
   "outputs": [
    {
     "name": "stdout",
     "output_type": "stream",
     "text": [
      "False\n"
     ]
    }
   ],
   "source": [
    "print('1' in [1,2,3])"
   ]
  },
  {
   "cell_type": "code",
   "execution_count": 68,
   "metadata": {
    "collapsed": false
   },
   "outputs": [
    {
     "name": "stdout",
     "output_type": "stream",
     "text": [
      "yay\n"
     ]
    }
   ],
   "source": [
    "list = ['larry','curly','moe']\n",
    "if 'curly' in list:\n",
    "    print ('yay')"
   ]
  },
  {
   "cell_type": "markdown",
   "metadata": {},
   "source": [
    "for ... in ... 循环是非常常用的一个工具，除了可以遍历list，还可以遍历string："
   ]
  },
  {
   "cell_type": "code",
   "execution_count": 70,
   "metadata": {
    "collapsed": false
   },
   "outputs": [
    {
     "name": "stdout",
     "output_type": "stream",
     "text": [
      "s\n",
      "t\n",
      "r\n",
      "i\n",
      "n\n",
      "g\n"
     ]
    }
   ],
   "source": [
    "for c in 'string':\n",
    "    print (c)"
   ]
  },
  {
   "cell_type": "markdown",
   "metadata": {},
   "source": [
    "## Range\n",
    "刚才我们算了1到4的平方和（1+4+9+16)。那如果我们要算1到100的和怎么办？难道先写一个1到100的数组么？如果是js或者c#这样的程序会有类似下面这样的写法：\n",
    "```javascript\n",
    "var sum=0\n",
    "for(var num = 1;num<100;num++){\n",
    "    sum += num+1\n",
    "}\n",
    "console.log(sum)\n",
    "```\n",
    "不过python里面没有这么个工具，怎么办？"
   ]
  },
  {
   "cell_type": "code",
   "execution_count": 78,
   "metadata": {
    "collapsed": false
   },
   "outputs": [
    {
     "name": "stdout",
     "output_type": "stream",
     "text": [
      "0 1 2 3 4 5 6 7 8 9 "
     ]
    }
   ],
   "source": [
    "for n in range(10):\n",
    "    print(n,end=' ')"
   ]
  },
  {
   "cell_type": "markdown",
   "metadata": {},
   "source": [
    "先不用管print里面的end=' '，那个只是为了让输出不要那么占地方所以做的一个小修正。从上面的例子可以看到，我们能使用range()生成一个由序列数字组成的列表。再用几个例子看看range的用法："
   ]
  },
  {
   "cell_type": "code",
   "execution_count": 79,
   "metadata": {
    "collapsed": false
   },
   "outputs": [
    {
     "name": "stdout",
     "output_type": "stream",
     "text": [
      "1 2 3 4 5 6 7 8 9 "
     ]
    }
   ],
   "source": [
    "for n in range(1,10):\n",
    "    print(n,end=' ')\n",
    "#设置序列开始和结束"
   ]
  },
  {
   "cell_type": "code",
   "execution_count": 84,
   "metadata": {
    "collapsed": false
   },
   "outputs": [
    {
     "name": "stdout",
     "output_type": "stream",
     "text": [
      "-8 -6 -4 -2 0 2 4 6 8 "
     ]
    }
   ],
   "source": [
    "for n in range(-8,10,2):\n",
    "    print(n,end=' ')\n",
    "#设置序列开始，结束，间隔"
   ]
  },
  {
   "cell_type": "markdown",
   "metadata": {},
   "source": [
    "同样，range也是包头不包尾。\n",
    "\n",
    "所以我们的1到100求和就可以用下面的程序来实现了："
   ]
  },
  {
   "cell_type": "code",
   "execution_count": 86,
   "metadata": {
    "collapsed": false
   },
   "outputs": [
    {
     "name": "stdout",
     "output_type": "stream",
     "text": [
      "5050\n"
     ]
    }
   ],
   "source": [
    "sum = 0\n",
    "for num in range(1,101):\n",
    "    sum += num\n",
    "print (sum)"
   ]
  },
  {
   "cell_type": "markdown",
   "metadata": {},
   "source": [
    "## while循环\n",
    "\n",
    "for循环可以应对绝大多数的情况，但是while循环可以给你更多的控制权。比如下面的程序可以按照3的间隔输出a序列的内容："
   ]
  },
  {
   "cell_type": "code",
   "execution_count": 1,
   "metadata": {
    "collapsed": false
   },
   "outputs": [
    {
     "name": "stdout",
     "output_type": "stream",
     "text": [
      "1 4 7 10 13 16 19 "
     ]
    }
   ],
   "source": [
    "a = range(1,20)\n",
    "i = 0\n",
    "while i< len(a):\n",
    "    print (a[i],end=' ')\n",
    "    i = i+3\n"
   ]
  },
  {
   "cell_type": "code",
   "execution_count": 3,
   "metadata": {
    "collapsed": false
   },
   "outputs": [
    {
     "name": "stdout",
     "output_type": "stream",
     "text": [
      "1\n",
      "2\n",
      "4\n",
      "5\n"
     ]
    }
   ],
   "source": [
    "a = [1,2,3,4,5]\n",
    "i = 0\n",
    "while i<len(a):\n",
    "    i+=1\n",
    "    if a[i-1]==3:\n",
    "        continue\n",
    "    else:\n",
    "        print(a[i-1])"
   ]
  },
  {
   "cell_type": "code",
   "execution_count": 4,
   "metadata": {
    "collapsed": false
   },
   "outputs": [
    {
     "name": "stdout",
     "output_type": "stream",
     "text": [
      "1\n",
      "2\n"
     ]
    }
   ],
   "source": [
    "a = [1,2,3,4,5]\n",
    "i = 0\n",
    "while i<len(a):\n",
    "    i+=1\n",
    "    if a[i-1]==3:\n",
    "        break\n",
    "    else:\n",
    "        print(a[i-1])"
   ]
  },
  {
   "cell_type": "markdown",
   "metadata": {},
   "source": [
    "在上面的代码里面，一旦你漏了i=i+1，那程序就会陷入死循环。这也是为啥我不那么喜欢用while。\n",
    "\n",
    "上面的代码我们演示了continue的用法，continue表示跳过**当次**循环，break表示**结束**当前循环。比较一下上面两段程序有什么不同。\n",
    "\n",
    "实际上在循环里面还有一些细节，比如如果你的计数变量，比如上面的i，是在循环内部进行累加的，那你把累加的这一步放在continue的后面就会导致循环可能一直停在某个位置。\n",
    "\n",
    "所以，说实话，用for...in...吧"
   ]
  },
  {
   "cell_type": "markdown",
   "metadata": {},
   "source": [
    "## 列表的一些方法\n",
    "\n",
    "- list.append(elem) 将elem元素添加到列表的结尾。这个是很常用的一个办法。但是有个地方需要注意一下，看看下面的例程："
   ]
  },
  {
   "cell_type": "code",
   "execution_count": 5,
   "metadata": {
    "collapsed": false
   },
   "outputs": [
    {
     "name": "stdout",
     "output_type": "stream",
     "text": [
      "None\n"
     ]
    }
   ],
   "source": [
    "list1 = [1,2,3]\n",
    "list1 = list1.append(4)\n",
    "print(list1)"
   ]
  },
  {
   "cell_type": "markdown",
   "metadata": {},
   "source": [
    "在上面的程序里面，我们先把[1,2,3]交给了list1，然后用append(4)把4这个元素添加到了list1的后面，照理说这个时候list1应该是[1,2,3,4]，为什么输出的结果会是None呢？\n",
    "\n",
    "这是使用append方法经常出现的错误。append方法**不返回**新的列表，而是直接修改原先的list。简单的说，上面的代码应该这么写。"
   ]
  },
  {
   "cell_type": "code",
   "execution_count": 6,
   "metadata": {
    "collapsed": false
   },
   "outputs": [
    {
     "name": "stdout",
     "output_type": "stream",
     "text": [
      "[1, 2, 3, 4]\n"
     ]
    }
   ],
   "source": [
    "list1 = [1,2,3]\n",
    "list1.append(4)\n",
    "print(list1)"
   ]
  },
  {
   "cell_type": "markdown",
   "metadata": {},
   "source": [
    "在这一点上，string和list之间的区别是很明显的，务必注意。list的方法基本都是这个样子，不返回结果，直接修改原list。\n",
    "\n",
    "接下来再说明一下其他的常用方法：\n",
    "\n",
    "- list.insert(index,elem): 在index的位置插入elem"
   ]
  },
  {
   "cell_type": "code",
   "execution_count": 14,
   "metadata": {
    "collapsed": false
   },
   "outputs": [
    {
     "name": "stdout",
     "output_type": "stream",
     "text": [
      "['apple', 'appleben', 'pen']\n"
     ]
    }
   ],
   "source": [
    "list1 = ['apple','pen']\n",
    "list1.insert(1,'appleben')\n",
    "print(list1)"
   ]
  },
  {
   "cell_type": "markdown",
   "metadata": {},
   "source": [
    "- list.extend(list2): 类似javascript里面的concat，将list1和list2连接起来："
   ]
  },
  {
   "cell_type": "code",
   "execution_count": 19,
   "metadata": {
    "collapsed": false
   },
   "outputs": [
    {
     "name": "stdout",
     "output_type": "stream",
     "text": [
      "['apple', 'pen', 'apple pen', 'pen apple']\n"
     ]
    }
   ],
   "source": [
    "list1 = ['apple','pen']\n",
    "list2 = ['apple pen','pen apple']\n",
    "list1.extend(list2)\n",
    "print(list1)"
   ]
  },
  {
   "cell_type": "markdown",
   "metadata": {},
   "source": [
    "- list.index(elem): 和string里面的find有些相似，不过如果list里面不包含elem的话不会给出-1，而是报错。顺带一提，这个方法是有返回值的。"
   ]
  },
  {
   "cell_type": "code",
   "execution_count": 20,
   "metadata": {
    "collapsed": false
   },
   "outputs": [
    {
     "name": "stdout",
     "output_type": "stream",
     "text": [
      "0\n"
     ]
    }
   ],
   "source": [
    "list1 = [1,2,3,4]\n",
    "print(list1.index(1))"
   ]
  },
  {
   "cell_type": "code",
   "execution_count": 21,
   "metadata": {
    "collapsed": false
   },
   "outputs": [
    {
     "ename": "ValueError",
     "evalue": "5 is not in list",
     "output_type": "error",
     "traceback": [
      "\u001b[0;31m---------------------------------------------------------------------------\u001b[0m",
      "\u001b[0;31mValueError\u001b[0m                                Traceback (most recent call last)",
      "\u001b[0;32m<ipython-input-21-2c1e02054a43>\u001b[0m in \u001b[0;36m<module>\u001b[0;34m()\u001b[0m\n\u001b[0;32m----> 1\u001b[0;31m \u001b[0mprint\u001b[0m\u001b[0;34m(\u001b[0m\u001b[0mlist1\u001b[0m\u001b[0;34m.\u001b[0m\u001b[0mindex\u001b[0m\u001b[0;34m(\u001b[0m\u001b[0;36m5\u001b[0m\u001b[0;34m)\u001b[0m\u001b[0;34m)\u001b[0m\u001b[0;34m\u001b[0m\u001b[0m\n\u001b[0m",
      "\u001b[0;31mValueError\u001b[0m: 5 is not in list"
     ]
    }
   ],
   "source": [
    "print(list1.index(5))"
   ]
  },
  {
   "cell_type": "markdown",
   "metadata": {},
   "source": [
    "同样，如果只是想判断list里面是否包含了elem，用in是最好的：\n"
   ]
  },
  {
   "cell_type": "code",
   "execution_count": 23,
   "metadata": {
    "collapsed": false
   },
   "outputs": [
    {
     "name": "stdout",
     "output_type": "stream",
     "text": [
      "True\n"
     ]
    }
   ],
   "source": [
    "print(1 in list1)"
   ]
  },
  {
   "cell_type": "code",
   "execution_count": 25,
   "metadata": {
    "collapsed": false
   },
   "outputs": [
    {
     "name": "stdout",
     "output_type": "stream",
     "text": [
      "False\n"
     ]
    }
   ],
   "source": [
    "print(5 in list1)"
   ]
  },
  {
   "cell_type": "markdown",
   "metadata": {},
   "source": [
    "- list.remove(elem): 在list中找到第一次出现的elem，并且删除。如果找不到的话就会报错"
   ]
  },
  {
   "cell_type": "code",
   "execution_count": 26,
   "metadata": {
    "collapsed": false
   },
   "outputs": [
    {
     "name": "stdout",
     "output_type": "stream",
     "text": [
      "[1, 3, 2, 4, 5]\n"
     ]
    }
   ],
   "source": [
    "list1 = [1,2,3,2,4,5]\n",
    "list1.remove(2)\n",
    "print(list1)"
   ]
  },
  {
   "cell_type": "code",
   "execution_count": 27,
   "metadata": {
    "collapsed": false
   },
   "outputs": [
    {
     "ename": "ValueError",
     "evalue": "list.remove(x): x not in list",
     "output_type": "error",
     "traceback": [
      "\u001b[0;31m---------------------------------------------------------------------------\u001b[0m",
      "\u001b[0;31mValueError\u001b[0m                                Traceback (most recent call last)",
      "\u001b[0;32m<ipython-input-27-f0eba5f26a1f>\u001b[0m in \u001b[0;36m<module>\u001b[0;34m()\u001b[0m\n\u001b[0;32m----> 1\u001b[0;31m \u001b[0mlist1\u001b[0m\u001b[0;34m.\u001b[0m\u001b[0mremove\u001b[0m\u001b[0;34m(\u001b[0m\u001b[0;36m10\u001b[0m\u001b[0;34m)\u001b[0m\u001b[0;34m\u001b[0m\u001b[0m\n\u001b[0m",
      "\u001b[0;31mValueError\u001b[0m: list.remove(x): x not in list"
     ]
    }
   ],
   "source": [
    "list1.remove(10)"
   ]
  },
  {
   "cell_type": "markdown",
   "metadata": {},
   "source": [
    "- list.sort(): 对列表进行排序，无返回值\n",
    "- sorted(list): 返回一个排序过了的列表"
   ]
  },
  {
   "cell_type": "code",
   "execution_count": 29,
   "metadata": {
    "collapsed": false
   },
   "outputs": [
    {
     "name": "stdout",
     "output_type": "stream",
     "text": [
      "[0, 1, 2, 4, 5, 7]\n",
      "[1, 4, 5, 7, 2, 0]\n"
     ]
    }
   ],
   "source": [
    "list1 = [1,4,5,7,2,0]\n",
    "print(sorted(list1))\n",
    "print(list1)"
   ]
  },
  {
   "cell_type": "markdown",
   "metadata": {},
   "source": [
    "sorted()函数不会修改作为参数传入的list1，而是返回一个新的，排好序的list。实际使用中更加常用一些。list.sort()的例子如下："
   ]
  },
  {
   "cell_type": "code",
   "execution_count": 30,
   "metadata": {
    "collapsed": false
   },
   "outputs": [
    {
     "name": "stdout",
     "output_type": "stream",
     "text": [
      "[0, 1, 2, 4, 5, 7]\n"
     ]
    }
   ],
   "source": [
    "list1 = [1,4,5,7,2,0]\n",
    "list1.sort()\n",
    "print(list1)"
   ]
  },
  {
   "cell_type": "markdown",
   "metadata": {},
   "source": [
    "- list.reverse(): 将序列反序，无返回值\n",
    "- list.pop(index): 将index处的元素删除，并返回删除了的元素。"
   ]
  },
  {
   "cell_type": "code",
   "execution_count": 31,
   "metadata": {
    "collapsed": false
   },
   "outputs": [
    {
     "name": "stdout",
     "output_type": "stream",
     "text": [
      "[4, 3, 2, 1]\n"
     ]
    }
   ],
   "source": [
    "list1 = [1,2,3,4]\n",
    "list1.reverse()\n",
    "print(list1)"
   ]
  },
  {
   "cell_type": "code",
   "execution_count": 32,
   "metadata": {
    "collapsed": false
   },
   "outputs": [
    {
     "name": "stdout",
     "output_type": "stream",
     "text": [
      "2\n",
      "[1, 3, 4]\n"
     ]
    }
   ],
   "source": [
    "list1 = [1,2,3,4]\n",
    "print(list1.pop(1))\n",
    "print(list1)"
   ]
  },
  {
   "cell_type": "markdown",
   "metadata": {},
   "source": [
    "## 几个额外的问题\n",
    "\n",
    "1. 如何把一个字符串反序？"
   ]
  },
  {
   "cell_type": "code",
   "execution_count": 35,
   "metadata": {
    "collapsed": false
   },
   "outputs": [
    {
     "ename": "AttributeError",
     "evalue": "'str' object has no attribute 'reverse'",
     "output_type": "error",
     "traceback": [
      "\u001b[0;31m---------------------------------------------------------------------------\u001b[0m",
      "\u001b[0;31mAttributeError\u001b[0m                            Traceback (most recent call last)",
      "\u001b[0;32m<ipython-input-35-a1c9f55beae6>\u001b[0m in \u001b[0;36m<module>\u001b[0;34m()\u001b[0m\n\u001b[1;32m      1\u001b[0m \u001b[0mstring\u001b[0m \u001b[0;34m=\u001b[0m \u001b[0;34m'abcd'\u001b[0m\u001b[0;34m\u001b[0m\u001b[0m\n\u001b[0;32m----> 2\u001b[0;31m \u001b[0mstring\u001b[0m\u001b[0;34m.\u001b[0m\u001b[0mreverse\u001b[0m\u001b[0;34m(\u001b[0m\u001b[0;34m)\u001b[0m\u001b[0;34m\u001b[0m\u001b[0m\n\u001b[0m\u001b[1;32m      3\u001b[0m \u001b[0mprint\u001b[0m\u001b[0;34m(\u001b[0m\u001b[0mstring\u001b[0m\u001b[0;34m)\u001b[0m\u001b[0;34m\u001b[0m\u001b[0m\n",
      "\u001b[0;31mAttributeError\u001b[0m: 'str' object has no attribute 'reverse'"
     ]
    }
   ],
   "source": [
    "string = 'abcd'\n",
    "string.reverse()\n",
    "print(string)"
   ]
  },
  {
   "cell_type": "markdown",
   "metadata": {},
   "source": [
    "看到了吧，字符串是没有reverse这个方法的，毕竟人家是immutable的。那要怎么办才好呢？\n",
    "\n",
    "可以先转换成list，反序以后再转换回string"
   ]
  },
  {
   "cell_type": "code",
   "execution_count": 36,
   "metadata": {
    "collapsed": false
   },
   "outputs": [
    {
     "name": "stdout",
     "output_type": "stream",
     "text": [
      "dcba\n"
     ]
    }
   ],
   "source": [
    "string = 'abcd'\n",
    "list1 = list(string)\n",
    "list1.reverse()\n",
    "string = \"\".join(list1)\n",
    "print(string)"
   ]
  },
  {
   "cell_type": "markdown",
   "metadata": {},
   "source": [
    "2. 如何对['1','21','3','45']进行排序？要根据数值大小进行排序哦。"
   ]
  },
  {
   "cell_type": "code",
   "execution_count": 38,
   "metadata": {
    "collapsed": false
   },
   "outputs": [
    {
     "name": "stdout",
     "output_type": "stream",
     "text": [
      "['1', '21', '3', '45']\n"
     ]
    }
   ],
   "source": [
    "l = ['1','21','3','45']\n",
    "print(sorted(l))"
   ]
  },
  {
   "cell_type": "markdown",
   "metadata": {},
   "source": [
    "可以看到直接作sort是不行的，因为程序会使用字符串的排序法，也就是比较每个元素第一个字符在字符表上的顺序，所以虽然3比21小，但是因为3比2大所以3还会被排在21后面。\n",
    "\n",
    "sort和sorted都可以接受一个叫做key的参数，这个参数指向一个函数。还是看一下例子吧："
   ]
  },
  {
   "cell_type": "code",
   "execution_count": 39,
   "metadata": {
    "collapsed": false
   },
   "outputs": [
    {
     "name": "stdout",
     "output_type": "stream",
     "text": [
      "['1', '3', '21', '45']\n"
     ]
    }
   ],
   "source": [
    "l = ['1','21','3','45']\n",
    "print(sorted(l,key=int))"
   ]
  },
  {
   "cell_type": "markdown",
   "metadata": {},
   "source": [
    "key=int是什么意思呢？key表示这个参数的名字，这个在每个sort都是一样的，关键在int。\n",
    "\n",
    "int实际上代表的是`int(s)`这么一个函数。但是在作为参数的时候我们不写括号以及里面的参数。在将int(s)作为参数交给sorted以后，python会把l的每一个元素都作为参数传入int，获得一个返回值做一个转化：\n",
    "\n",
    "| 元素     | 转化     |转化结果|\n",
    "| :------------- | :------------- |:------------- |\n",
    "| '1'      | int('1')       |1       |\n",
    "| '21'      | int('21')       |21       |\n",
    "| '3'      | int('3')       |3       |\n",
    "| '45'      | int('45')       |45       |\n",
    "\n",
    "sorted之后就会根据转化以后的结果做一个排序。\n",
    "\n",
    "用函数作为另外一个函数或方法的参数是不大直观的事情，需要自己多去想一想才能弄明白。目前不明白也不要紧，只要知道大致的写法就可以了。"
   ]
  }
 ],
 "metadata": {
  "anaconda-cloud": {},
  "kernelspec": {
   "display_name": "Python [default]",
   "language": "python",
   "name": "python3"
  },
  "language_info": {
   "codemirror_mode": {
    "name": "ipython",
    "version": 3
   },
   "file_extension": ".py",
   "mimetype": "text/x-python",
   "name": "python",
   "nbconvert_exporter": "python",
   "pygments_lexer": "ipython3",
   "version": "3.5.2"
  }
 },
 "nbformat": 4,
 "nbformat_minor": 1
}
